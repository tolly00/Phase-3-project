{
 "cells": [
  {
   "cell_type": "markdown",
   "id": "d2779fca-f6b9-429e-a0bd-2896a96ed0c1",
   "metadata": {},
   "source": [
    "## Final Phase 3 Project Submission\n",
    "\n",
    "Please fill out: \n",
    "* Student name: **Alberto SYLVEUS** \n",
    "* Student pace: self paced / part time / full time\n",
    "* Scheduled project review date/time: \n",
    "* Instructor name: **Wedter JEROME**\n",
    "*  \n",
    "[Click here to get the github repository](https://github.com/tolly00/Phase-3-project.git)"
   ]
  },
  {
   "cell_type": "markdown",
   "id": "4f8c5218-7f02-4d96-ba57-dd1e7be83ecb",
   "metadata": {},
   "source": [
    "## Overview"
   ]
  },
  {
   "cell_type": "markdown",
   "id": "5d227bd6-9ab2-4741-b92c-5ce3e0a1e231",
   "metadata": {},
   "source": [
    "A telecommunication company, his mame is **SyriaTel**, he wants to be informed whether a customer will (\"soon\") stop doing business with him."
   ]
  },
  {
   "cell_type": "markdown",
   "id": "86c398a1-d1eb-48f0-b06a-1dcf03409467",
   "metadata": {},
   "source": [
    "## Busineess Undertanding"
   ]
  },
  {
   "cell_type": "markdown",
   "id": "82949b0a-adf4-4550-b430-5679b0e98b5f",
   "metadata": {},
   "source": [
    "**SyriaTel**, a telecommunications company, is facing a challenge common in the industry: customer churn. Churn occurs when a customer terminates their contract or stops using the company’s services. Retaining existing customers is usually more cost-effective than acquiring new ones, so predicting churn is a high business priority.\n",
    "\n",
    "The goal is to build a predictive model that can identify customers who are at risk of leaving SyriaTel in the near future. This will enable the company to take proactive actions (such as offering promotions, improved support, or loyalty programs) to retain those customers."
   ]
  },
  {
   "cell_type": "markdown",
   "id": "a89ebeb7-594c-4a93-9394-4960fc09667f",
   "metadata": {},
   "source": [
    "## Data Understanding"
   ]
  },
  {
   "cell_type": "markdown",
   "id": "ace6eac7-41de-408c-9a19-d44fe28430c0",
   "metadata": {},
   "source": [
    "In this section, we are going to look at customer dataset to identify data quality issues, and gain initial insights that will help guide the modeling process.\n",
    "\n",
    "In this dataset, we have historical customer information, with features such as:\n",
    "- **state**: the state the customer lives in\n",
    "- **account length**: the number of days the customer has had an account\n",
    "- **area code**: the area code of the customer\n",
    "- **phone number**: the phone number of the customer\n",
    "- **international plan**: true if the customer has the international plan, otherwise false\n",
    "- **voice mail plan**: true if the customer has the voice mail plan, otherwise false\n",
    "- **number vmail messages**: the number of voicemails the customer has sent\n",
    "- **total day minutes**: total number of minutes the customer has been in calls during the day\n",
    "- **total day calls**: total number of calls the user has done during the day\n",
    "- **total day charge**: total amount of money the customer was charged by the Telecom company for calls during the day\n",
    "- **total eve minutes**: total number of minutes the customer has been in calls during the evening\n",
    "- **total eve calls**: total number of calls the customer has done during the evening\n",
    "- **total eve charge**: total amount of money the customer was charged by the Telecom company for calls during the evening\n",
    "- **total night minutes**: total number of minutes the customer has been in calls during the night\n",
    "- **total night calls**: total number of calls the customer has done during the night\n",
    "- **total night charge**: total amount of money the customer was charged by the Telecom company for calls during the night\n",
    "- **total intl minutes**: total number of minutes the user has been in international calls\n",
    "- **total intl calls**: total number of international calls the customer has done\n",
    "- **total intl charge**: total amount of money the customer was charged by the Telecom company for international calls\n",
    "- **customer service calls**: number of calls the customer has made to customer service\n",
    "- **churn**: true if the customer terminated their contract, otherwise false \n",
    "\n",
    "This dataset has **3333 rows** and **21 columns**."
   ]
  },
  {
   "cell_type": "markdown",
   "id": "5db734da-dde1-436c-93a9-ecbebad86681",
   "metadata": {},
   "source": [
    "## Data Preparation"
   ]
  },
  {
   "cell_type": "code",
   "execution_count": 59,
   "id": "097ef35c-9ae8-4856-af83-6bdb958f33e9",
   "metadata": {},
   "outputs": [],
   "source": [
    "# Import module and package...\n",
    "\n",
    "# data manipulation\n",
    "import pandas as pd\n",
    "import numpy as np\n",
    "\n",
    "# data vizualisation\n",
    "import matplotlib.pyplot as plt\n",
    "import seaborn as sns\n",
    "\n",
    "from sklearn.model_selection import train_test_split\n",
    "from sklearn.preprocessing import OneHotEncoder\n",
    "from sklearn.preprocessing import StandardScaler, LabelEncoder\n",
    "from sklearn.linear_model import LogisticRegression\n",
    "from sklearn.ensemble import RandomForestClassifier\n",
    "from sklearn.metrics import accuracy_score, precision_score, recall_score, f1_score, confusion_matrix, classification_report"
   ]
  },
  {
   "cell_type": "code",
   "execution_count": 2,
   "id": "2d011998-26ac-4587-9960-63cb5d635102",
   "metadata": {},
   "outputs": [
    {
     "data": {
      "text/html": [
       "<div>\n",
       "<style scoped>\n",
       "    .dataframe tbody tr th:only-of-type {\n",
       "        vertical-align: middle;\n",
       "    }\n",
       "\n",
       "    .dataframe tbody tr th {\n",
       "        vertical-align: top;\n",
       "    }\n",
       "\n",
       "    .dataframe thead th {\n",
       "        text-align: right;\n",
       "    }\n",
       "</style>\n",
       "<table border=\"1\" class=\"dataframe\">\n",
       "  <thead>\n",
       "    <tr style=\"text-align: right;\">\n",
       "      <th></th>\n",
       "      <th>state</th>\n",
       "      <th>account length</th>\n",
       "      <th>area code</th>\n",
       "      <th>phone number</th>\n",
       "      <th>international plan</th>\n",
       "      <th>voice mail plan</th>\n",
       "      <th>number vmail messages</th>\n",
       "      <th>total day minutes</th>\n",
       "      <th>total day calls</th>\n",
       "      <th>total day charge</th>\n",
       "      <th>...</th>\n",
       "      <th>total eve calls</th>\n",
       "      <th>total eve charge</th>\n",
       "      <th>total night minutes</th>\n",
       "      <th>total night calls</th>\n",
       "      <th>total night charge</th>\n",
       "      <th>total intl minutes</th>\n",
       "      <th>total intl calls</th>\n",
       "      <th>total intl charge</th>\n",
       "      <th>customer service calls</th>\n",
       "      <th>churn</th>\n",
       "    </tr>\n",
       "  </thead>\n",
       "  <tbody>\n",
       "    <tr>\n",
       "      <th>0</th>\n",
       "      <td>KS</td>\n",
       "      <td>128</td>\n",
       "      <td>415</td>\n",
       "      <td>382-4657</td>\n",
       "      <td>no</td>\n",
       "      <td>yes</td>\n",
       "      <td>25</td>\n",
       "      <td>265.1</td>\n",
       "      <td>110</td>\n",
       "      <td>45.07</td>\n",
       "      <td>...</td>\n",
       "      <td>99</td>\n",
       "      <td>16.78</td>\n",
       "      <td>244.7</td>\n",
       "      <td>91</td>\n",
       "      <td>11.01</td>\n",
       "      <td>10.0</td>\n",
       "      <td>3</td>\n",
       "      <td>2.70</td>\n",
       "      <td>1</td>\n",
       "      <td>False</td>\n",
       "    </tr>\n",
       "    <tr>\n",
       "      <th>1</th>\n",
       "      <td>OH</td>\n",
       "      <td>107</td>\n",
       "      <td>415</td>\n",
       "      <td>371-7191</td>\n",
       "      <td>no</td>\n",
       "      <td>yes</td>\n",
       "      <td>26</td>\n",
       "      <td>161.6</td>\n",
       "      <td>123</td>\n",
       "      <td>27.47</td>\n",
       "      <td>...</td>\n",
       "      <td>103</td>\n",
       "      <td>16.62</td>\n",
       "      <td>254.4</td>\n",
       "      <td>103</td>\n",
       "      <td>11.45</td>\n",
       "      <td>13.7</td>\n",
       "      <td>3</td>\n",
       "      <td>3.70</td>\n",
       "      <td>1</td>\n",
       "      <td>False</td>\n",
       "    </tr>\n",
       "    <tr>\n",
       "      <th>2</th>\n",
       "      <td>NJ</td>\n",
       "      <td>137</td>\n",
       "      <td>415</td>\n",
       "      <td>358-1921</td>\n",
       "      <td>no</td>\n",
       "      <td>no</td>\n",
       "      <td>0</td>\n",
       "      <td>243.4</td>\n",
       "      <td>114</td>\n",
       "      <td>41.38</td>\n",
       "      <td>...</td>\n",
       "      <td>110</td>\n",
       "      <td>10.30</td>\n",
       "      <td>162.6</td>\n",
       "      <td>104</td>\n",
       "      <td>7.32</td>\n",
       "      <td>12.2</td>\n",
       "      <td>5</td>\n",
       "      <td>3.29</td>\n",
       "      <td>0</td>\n",
       "      <td>False</td>\n",
       "    </tr>\n",
       "    <tr>\n",
       "      <th>3</th>\n",
       "      <td>OH</td>\n",
       "      <td>84</td>\n",
       "      <td>408</td>\n",
       "      <td>375-9999</td>\n",
       "      <td>yes</td>\n",
       "      <td>no</td>\n",
       "      <td>0</td>\n",
       "      <td>299.4</td>\n",
       "      <td>71</td>\n",
       "      <td>50.90</td>\n",
       "      <td>...</td>\n",
       "      <td>88</td>\n",
       "      <td>5.26</td>\n",
       "      <td>196.9</td>\n",
       "      <td>89</td>\n",
       "      <td>8.86</td>\n",
       "      <td>6.6</td>\n",
       "      <td>7</td>\n",
       "      <td>1.78</td>\n",
       "      <td>2</td>\n",
       "      <td>False</td>\n",
       "    </tr>\n",
       "    <tr>\n",
       "      <th>4</th>\n",
       "      <td>OK</td>\n",
       "      <td>75</td>\n",
       "      <td>415</td>\n",
       "      <td>330-6626</td>\n",
       "      <td>yes</td>\n",
       "      <td>no</td>\n",
       "      <td>0</td>\n",
       "      <td>166.7</td>\n",
       "      <td>113</td>\n",
       "      <td>28.34</td>\n",
       "      <td>...</td>\n",
       "      <td>122</td>\n",
       "      <td>12.61</td>\n",
       "      <td>186.9</td>\n",
       "      <td>121</td>\n",
       "      <td>8.41</td>\n",
       "      <td>10.1</td>\n",
       "      <td>3</td>\n",
       "      <td>2.73</td>\n",
       "      <td>3</td>\n",
       "      <td>False</td>\n",
       "    </tr>\n",
       "  </tbody>\n",
       "</table>\n",
       "<p>5 rows × 21 columns</p>\n",
       "</div>"
      ],
      "text/plain": [
       "  state  account length  area code phone number international plan  \\\n",
       "0    KS             128        415     382-4657                 no   \n",
       "1    OH             107        415     371-7191                 no   \n",
       "2    NJ             137        415     358-1921                 no   \n",
       "3    OH              84        408     375-9999                yes   \n",
       "4    OK              75        415     330-6626                yes   \n",
       "\n",
       "  voice mail plan  number vmail messages  total day minutes  total day calls  \\\n",
       "0             yes                     25              265.1              110   \n",
       "1             yes                     26              161.6              123   \n",
       "2              no                      0              243.4              114   \n",
       "3              no                      0              299.4               71   \n",
       "4              no                      0              166.7              113   \n",
       "\n",
       "   total day charge  ...  total eve calls  total eve charge  \\\n",
       "0             45.07  ...               99             16.78   \n",
       "1             27.47  ...              103             16.62   \n",
       "2             41.38  ...              110             10.30   \n",
       "3             50.90  ...               88              5.26   \n",
       "4             28.34  ...              122             12.61   \n",
       "\n",
       "   total night minutes  total night calls  total night charge  \\\n",
       "0                244.7                 91               11.01   \n",
       "1                254.4                103               11.45   \n",
       "2                162.6                104                7.32   \n",
       "3                196.9                 89                8.86   \n",
       "4                186.9                121                8.41   \n",
       "\n",
       "   total intl minutes  total intl calls  total intl charge  \\\n",
       "0                10.0                 3               2.70   \n",
       "1                13.7                 3               3.70   \n",
       "2                12.2                 5               3.29   \n",
       "3                 6.6                 7               1.78   \n",
       "4                10.1                 3               2.73   \n",
       "\n",
       "   customer service calls  churn  \n",
       "0                       1  False  \n",
       "1                       1  False  \n",
       "2                       0  False  \n",
       "3                       2  False  \n",
       "4                       3  False  \n",
       "\n",
       "[5 rows x 21 columns]"
      ]
     },
     "execution_count": 2,
     "metadata": {},
     "output_type": "execute_result"
    }
   ],
   "source": [
    "# load data from csv file\n",
    "df = pd.read_csv('data/bigml_59c28831336c6604c800002a.csv')\n",
    "df.head()"
   ]
  },
  {
   "cell_type": "code",
   "execution_count": 3,
   "id": "073b360e-1d49-489f-8935-9fb8580fde24",
   "metadata": {},
   "outputs": [
    {
     "data": {
      "text/plain": [
       "0"
      ]
     },
     "execution_count": 3,
     "metadata": {},
     "output_type": "execute_result"
    }
   ],
   "source": [
    "df.duplicated().sum() # duplicate rows check"
   ]
  },
  {
   "cell_type": "code",
   "execution_count": 4,
   "id": "1afeaed2-555f-477d-953e-9123153b010c",
   "metadata": {},
   "outputs": [
    {
     "data": {
      "text/plain": [
       "state                     0\n",
       "account length            0\n",
       "area code                 0\n",
       "phone number              0\n",
       "international plan        0\n",
       "voice mail plan           0\n",
       "number vmail messages     0\n",
       "total day minutes         0\n",
       "total day calls           0\n",
       "total day charge          0\n",
       "total eve minutes         0\n",
       "total eve calls           0\n",
       "total eve charge          0\n",
       "total night minutes       0\n",
       "total night calls         0\n",
       "total night charge        0\n",
       "total intl minutes        0\n",
       "total intl calls          0\n",
       "total intl charge         0\n",
       "customer service calls    0\n",
       "churn                     0\n",
       "dtype: int64"
      ]
     },
     "execution_count": 4,
     "metadata": {},
     "output_type": "execute_result"
    }
   ],
   "source": [
    "df.isnull().sum() # check if missing values exist"
   ]
  },
  {
   "cell_type": "markdown",
   "id": "c12407ec-3a66-435b-a423-143887a5c923",
   "metadata": {},
   "source": [
    "Let's check the number of unique values in all columns to find **feature type**."
   ]
  },
  {
   "cell_type": "code",
   "execution_count": 6,
   "id": "92ed3b4d-ad91-4fe1-81bf-cd894f49eafd",
   "metadata": {},
   "outputs": [
    {
     "data": {
      "text/plain": [
       "state                       51\n",
       "account length             212\n",
       "area code                    3\n",
       "phone number              3333\n",
       "international plan           2\n",
       "voice mail plan              2\n",
       "number vmail messages       46\n",
       "total day minutes         1667\n",
       "total day calls            119\n",
       "total day charge          1667\n",
       "total eve minutes         1611\n",
       "total eve calls            123\n",
       "total eve charge          1440\n",
       "total night minutes       1591\n",
       "total night calls          120\n",
       "total night charge         933\n",
       "total intl minutes         162\n",
       "total intl calls            21\n",
       "total intl charge          162\n",
       "customer service calls      10\n",
       "churn                        2\n",
       "dtype: int64"
      ]
     },
     "execution_count": 6,
     "metadata": {},
     "output_type": "execute_result"
    }
   ],
   "source": [
    "df.nunique()"
   ]
  },
  {
   "cell_type": "code",
   "execution_count": 7,
   "id": "9cf7e621-3371-4528-a15d-4e919b2c1167",
   "metadata": {
    "scrolled": true
   },
   "outputs": [
    {
     "data": {
      "text/plain": [
       "(3333, 20)"
      ]
     },
     "execution_count": 7,
     "metadata": {},
     "output_type": "execute_result"
    }
   ],
   "source": [
    "# Let's drop phone number this is a irrelevant feature\n",
    "df.drop(['phone number'],axis=1,inplace=True)\n",
    "df.shape"
   ]
  },
  {
   "cell_type": "markdown",
   "id": "7765b3d4-65d5-45d0-8ca3-217d5953dc6c",
   "metadata": {},
   "source": [
    "We can see that we have `continues features`(numeric values with an infinite number of possible values) and `categoricals features`(values that have a finite number of categories)."
   ]
  },
  {
   "cell_type": "code",
   "execution_count": 8,
   "id": "06ade295-b6cc-49f4-9c25-89e62a68c235",
   "metadata": {},
   "outputs": [],
   "source": [
    "# let's make a list for each continous and categorical features.\n",
    "\n",
    "num_cols = ['account length','number vmail messages','total day minutes','total day calls','total day charge',\n",
    "                'total eve minutes','total eve calls','total eve charge','total night minutes','total night calls',\n",
    "                'total night charge','total intl minutes','total intl calls','total intl charge','customer service calls']\n",
    "\n",
    "cat_cols = ['state','area code','international plan','voice mail plan']"
   ]
  },
  {
   "cell_type": "code",
   "execution_count": 9,
   "id": "d32ca1ce-e979-4bbb-bd81-421a3895fe80",
   "metadata": {},
   "outputs": [],
   "source": [
    "# Initialize OneHotEncoder\n",
    "encoder = OneHotEncoder(sparse=False)\n",
    "\n",
    "# Transformation\n",
    "encoded = encoder.fit_transform(df[cat_cols])\n",
    "\n",
    "# get new columns\n",
    "encoded_df = pd.DataFrame(encoded, columns=encoder.get_feature_names(cat_cols))\n",
    "\n",
    "# merge with the initial dataframe\n",
    "new_df = pd.concat([df, encoded_df], axis=1)\n",
    "new_df = new_df.drop(columns=cat_cols)"
   ]
  },
  {
   "cell_type": "code",
   "execution_count": 10,
   "id": "daf4eedf-2dff-4b15-8871-1a0fe0c09d52",
   "metadata": {},
   "outputs": [],
   "source": [
    "# Encoder the target\n",
    "label_encoder = LabelEncoder()\n",
    "new_df[\"churn\"] = label_encoder.fit_transform(df[\"churn\"])"
   ]
  },
  {
   "cell_type": "code",
   "execution_count": 12,
   "id": "66ade42c-2e6b-417b-9f9e-be7bda599dea",
   "metadata": {},
   "outputs": [
    {
     "data": {
      "image/png": "[encoded data removed]",
      "text/plain": [
       "<Figure size 720x360 with 1 Axes>"
      ]
     },
     "metadata": {
      "needs_background": "light"
     },
     "output_type": "display_data"
    },
    {
     "data": {
      "image/png": "[encoded data removed]",
      "text/plain": [
       "<Figure size 720x360 with 1 Axes>"
      ]
     },
     "metadata": {
      "needs_background": "light"
     },
     "output_type": "display_data"
    },
    {
     "data": {
      "image/png": "[encoded data removed]",
      "text/plain": [
       "<Figure size 720x360 with 1 Axes>"
      ]
     },
     "metadata": {
      "needs_background": "light"
     },
     "output_type": "display_data"
    },
    {
     "data": {
      "image/png": "[encoded data removed]",
      "text/plain": [
       "<Figure size 720x360 with 1 Axes>"
      ]
     },
     "metadata": {
      "needs_background": "light"
     },
     "output_type": "display_data"
    }
   ],
   "source": [
    "# let's show categoricals features insight\n",
    "for i in cat_cols:\n",
    "    plt.figure(figsize=(10,5))\n",
    "    sns.countplot(x=i, hue=\"churn\", data=df,order= df[i].value_counts().iloc[0:15].index)\n",
    "    plt.xticks(rotation=90)\n",
    "    plt.legend(loc=\"upper right\")\n",
    "    plt.show()\n"
   ]
  },
  {
   "cell_type": "code",
   "execution_count": 13,
   "id": "82a1617d-0097-4690-a289-5dd283d81607",
   "metadata": {},
   "outputs": [
    {
     "name": "stdout",
     "output_type": "stream",
     "text": [
      "0    2850\n",
      "1     483\n",
      "Name: churn, dtype: int64\n"
     ]
    },
    {
     "data": {
      "image/png": "[encoded data removed]",
      "text/plain": [
       "<Figure size 432x288 with 1 Axes>"
      ]
     },
     "metadata": {
      "needs_background": "light"
     },
     "output_type": "display_data"
    }
   ],
   "source": [
    "# let's show the churn feature\n",
    "churn_count = new_df.churn.value_counts()\n",
    "print(churn_count)\n",
    "sns.countplot(data=df, x='churn');"
   ]
  },
  {
   "cell_type": "markdown",
   "id": "43d7eb0f-d649-4556-80e3-75012a0e8405",
   "metadata": {},
   "source": [
    "## Modeling"
   ]
  },
  {
   "cell_type": "code",
   "execution_count": 23,
   "id": "b512bb16-4e5d-4e6e-ab92-9331a2fee2a6",
   "metadata": {},
   "outputs": [
    {
     "name": "stdout",
     "output_type": "stream",
     "text": [
      "Train size: (2333, 73)\n",
      "Test size: (1000, 73)\n"
     ]
    }
   ],
   "source": [
    "# Split features & target\n",
    "X = new_df.drop(\"churn\", axis=1)\n",
    "y = new_df[\"churn\"]\n",
    "\n",
    "# Train/test split\n",
    "X_train, X_test, y_train, y_test = train_test_split(X, y, test_size=0.3, random_state=42, stratify=y)\n",
    "\n",
    "print(\"Train size:\", X_train.shape)\n",
    "print(\"Test size:\", X_test.shape)"
   ]
  },
  {
   "cell_type": "code",
   "execution_count": 24,
   "id": "167b587c-1b1a-41f8-a761-e1a2fc4c1917",
   "metadata": {},
   "outputs": [],
   "source": [
    "X_train = X_train.copy()\n",
    "X_test = X_test.copy()"
   ]
  },
  {
   "cell_type": "code",
   "execution_count": 25,
   "id": "4821995e-34bc-4c4b-910b-a3ee13b6ae42",
   "metadata": {},
   "outputs": [],
   "source": [
    "# Feature scaling\n",
    "scaler = StandardScaler()\n",
    "X_train[num_cols] = scaler.fit_transform(X_train[num_cols])\n",
    "X_test[num_cols] = scaler.transform(X_test[num_cols])"
   ]
  },
  {
   "cell_type": "code",
   "execution_count": 35,
   "id": "cb006164-0ca3-4337-85a4-875d09fd4f38",
   "metadata": {},
   "outputs": [
    {
     "data": {
      "text/plain": [
       "LogisticRegression(class_weight='balanced', max_iter=1000, random_state=42)"
      ]
     },
     "execution_count": 35,
     "metadata": {},
     "output_type": "execute_result"
    }
   ],
   "source": [
    "# Train a Logistic Regression model \n",
    "model = LogisticRegression(class_weight='balanced',max_iter=1000, random_state=42)\n",
    "model.fit(X_train, y_train)"
   ]
  },
  {
   "cell_type": "code",
   "execution_count": 36,
   "id": "69051156-d201-47be-b5ad-98056df594bc",
   "metadata": {},
   "outputs": [],
   "source": [
    "# Make predictions\n",
    "y_pred = model.predict(X_test)"
   ]
  },
  {
   "cell_type": "code",
   "execution_count": 37,
   "id": "4e816713-1194-4510-8dd4-a4db92c2c708",
   "metadata": {},
   "outputs": [
    {
     "name": "stdout",
     "output_type": "stream",
     "text": [
      "Accuracy: 0.752\n",
      "Precision: 0.3333333333333333\n",
      "Recall: 0.7103448275862069\n",
      "F1 Score: 0.45374449339207046\n",
      "\n",
      "Classification Report:\n",
      "               precision    recall  f1-score   support\n",
      "\n",
      "           0       0.94      0.76      0.84       855\n",
      "           1       0.33      0.71      0.45       145\n",
      "\n",
      "    accuracy                           0.75      1000\n",
      "   macro avg       0.64      0.73      0.65      1000\n",
      "weighted avg       0.85      0.75      0.78      1000\n",
      "\n"
     ]
    }
   ],
   "source": [
    "# Evaluate model\n",
    "print(\"Accuracy:\", accuracy_score(y_test, y_pred))\n",
    "print(\"Precision:\", precision_score(y_test, y_pred))\n",
    "print(\"Recall:\", recall_score(y_test, y_pred))\n",
    "print(\"F1 Score:\", f1_score(y_test, y_pred))\n",
    "\n",
    "print(\"\\nClassification Report:\\n\", classification_report(y_test, y_pred))"
   ]
  },
  {
   "cell_type": "code",
   "execution_count": 38,
   "id": "b65c2dbb-edc1-4438-aac1-53e2b17e8a76",
   "metadata": {},
   "outputs": [
    {
     "data": {
      "image/png": "[encoded data removed]",
      "text/plain": [
       "<Figure size 432x288 with 2 Axes>"
      ]
     },
     "metadata": {
      "needs_background": "light"
     },
     "output_type": "display_data"
    }
   ],
   "source": [
    "# Confusion matrix\n",
    "cm = confusion_matrix(y_test, y_pred)\n",
    "sns.heatmap(cm, annot=True, fmt=\"d\", cmap=\"Blues\", xticklabels=[\"No Churn\",\"Churn\"], yticklabels=[\"No Churn\",\"Churn\"])\n",
    "plt.xlabel(\"Predicted\")\n",
    "plt.ylabel(\"Actual\")\n",
    "plt.title(\"Confusion Matrix\")\n",
    "plt.show()"
   ]
  },
  {
   "cell_type": "code",
   "execution_count": 76,
   "id": "6de5f0c4-87ce-41df-b590-b708504a1b53",
   "metadata": {},
   "outputs": [
    {
     "data": {
      "image/png": "[encoded data removed]",
      "text/plain": [
       "<Figure size 720x360 with 1 Axes>"
      ]
     },
     "metadata": {
      "needs_background": "light"
     },
     "output_type": "display_data"
    }
   ],
   "source": [
    "Importance =pd.DataFrame({\"coefficients\": ran_model.feature_importances_*100},index = X_train.columns)\n",
    "Importance.sort_values(by = \"coefficients\", axis = 0, ascending = True).tail(10).plot(kind =\"barh\", color = \"b\",figsize=(10, 5))\n",
    "plt.title(\"Feature Importance Levels\");\n",
    "plt.show()"
   ]
  },
  {
   "cell_type": "markdown",
   "id": "99801341-41b9-4717-b0dd-a07e9027ce0f",
   "metadata": {},
   "source": [
    "## Model 2 - Random Forest Classifier\n",
    "Random Forest is an ensemble algorithm that builds many decision trees on random subsets of data and combines their outputs by voting. It improves robustness, reduces overfitting, and highlights feature importance.\n",
    "Hyperparameter tuning is the process of selecting the best learning settings (hyperparameters) for a model. Unlike model parameters, which are learned during training, hyperparameters must be defined and optimized beforehand."
   ]
  },
  {
   "cell_type": "code",
   "execution_count": 60,
   "id": "80f6b98b-1fd6-48c4-97d5-5eb8b83bff82",
   "metadata": {},
   "outputs": [],
   "source": [
    "# Object creation, fitting the data & getting predictions \n",
    "ran_model = RandomForestClassifier() \n",
    "ran_model.fit(X_train,y_train) \n",
    "y_pred_ran = ran_model.predict(X_test)"
   ]
  },
  {
   "cell_type": "code",
   "execution_count": 69,
   "id": "f5ca0a54-a743-4e3c-8881-1e73ff1c71de",
   "metadata": {},
   "outputs": [
    {
     "data": {
      "image/png": "[encoded data removed]",
      "text/plain": [
       "<Figure size 720x360 with 1 Axes>"
      ]
     },
     "metadata": {
      "needs_background": "light"
     },
     "output_type": "display_data"
    }
   ],
   "source": [
    "Importance =pd.DataFrame({\"Importance\": ran_model.feature_importances_*100},index = X_train.columns)\n",
    "Importance.sort_values(by = \"Importance\", axis = 0, ascending = True).tail(10).plot(kind =\"barh\", color = \"g\",figsize=(10, 5))\n",
    "plt.title(\"Feature Importance Levels\");\n",
    "plt.show()"
   ]
  },
  {
   "cell_type": "code",
   "execution_count": 80,
   "id": "b2f78794-3468-4dce-bea2-9ff7f2d50988",
   "metadata": {},
   "outputs": [
    {
     "name": "stdout",
     "output_type": "stream",
     "text": [
      "Accuracy: 0.951\n",
      "Precision: 0.9615384615384616\n",
      "Recall: 0.6896551724137931\n",
      "F1 Score: 0.8032128514056224\n",
      "              precision    recall  f1-score   support\n",
      "\n",
      "           0       0.95      1.00      0.97       855\n",
      "           1       0.96      0.69      0.80       145\n",
      "\n",
      "    accuracy                           0.95      1000\n",
      "   macro avg       0.96      0.84      0.89      1000\n",
      "weighted avg       0.95      0.95      0.95      1000\n",
      "\n"
     ]
    }
   ],
   "source": [
    "# Evaluate model\n",
    "print(\"Accuracy:\", accuracy_score(y_test, y_pred_ran))\n",
    "print(\"Precision:\", precision_score(y_test, y_pred_ran))\n",
    "print(\"Recall:\", recall_score(y_test, y_pred_ran))\n",
    "print(\"F1 Score:\", f1_score(y_test, y_pred_ran))\n",
    "\n",
    "print(classification_report(y_test, y_pred_ran, target_names=['0', '1']))"
   ]
  },
  {
   "cell_type": "code",
   "execution_count": 79,
   "id": "83ab9d41-369c-4f16-832a-88af116c385e",
   "metadata": {},
   "outputs": [
    {
     "data": {
      "image/png": "[encoded data removed]",
      "text/plain": [
       "<Figure size 432x288 with 2 Axes>"
      ]
     },
     "metadata": {
      "needs_background": "light"
     },
     "output_type": "display_data"
    }
   ],
   "source": [
    "cm = confusion_matrix(y_test, y_pred_ran)\n",
    "sns.heatmap(cm, annot=True, fmt=\"d\", cmap=\"Greens\", xticklabels=[\"No Churn\",\"Churn\"], yticklabels=[\"No Churn\",\"Churn\"])\n",
    "plt.xlabel(\"Predicted\")\n",
    "plt.ylabel(\"Actual\")\n",
    "plt.title(\"Confusion Matrix\")\n",
    "plt.show()"
   ]
  },
  {
   "cell_type": "markdown",
   "id": "ba69ec25-2801-40bf-ba9f-458240381979",
   "metadata": {},
   "source": [
    "## Evaluation"
   ]
  },
  {
   "cell_type": "markdown",
   "id": "d57dbfba-0dac-4e6b-a2e1-2a7f649c434d",
   "metadata": {},
   "source": [
    "**Model 1 (75.2%)**\n",
    "\n",
    "Strength: higher recall (71%) for churners, better at catching at-risk customers.\n",
    "\n",
    "Weakness: terrible precision (33%),lots of false alarms, wastes resources.\n",
    "\n",
    "Use case: if the business only cares about not missing churners (even if many false alerts).\n",
    "\n",
    "**Model 2 (95.1%)**\n",
    "\n",
    "Strength: Very high accuracy and precision (96%), plus a strong F1 (0.80).\n",
    "\n",
    "Weakness: Recall slightly lower (69% vs 71%), but still very strong.\n",
    "\n",
    "Use case: overall balanced model, much more practical for real business decisions, minimizes false positives."
   ]
  },
  {
   "cell_type": "markdown",
   "id": "d2c4833d-0e43-4464-80a9-1c0eb1df1840",
   "metadata": {},
   "source": [
    "**Model 2** is clearly superior overall because it offers both very high accuracy (95%) and a strong balance between precision and recall for churn prediction.\n",
    "Even though **Model 1** had a tiny edge in recall (71% vs 69%), its low precision makes it impractical."
   ]
  },
  {
   "cell_type": "code",
   "execution_count": null,
   "id": "e782ad5b-9752-4f40-b7c2-306140992df0",
   "metadata": {},
   "outputs": [],
   "source": []
  }
 ],
 "metadata": {
  "kernelspec": {
   "display_name": "Python (learn-env)",
   "language": "python",
   "name": "learn-env"
  },
  "language_info": {
   "codemirror_mode": {
    "name": "ipython",
    "version": 3
   },
   "file_extension": ".py",
   "mimetype": "text/x-python",
   "name": "python",
   "nbconvert_exporter": "python",
   "pygments_lexer": "ipython3",
   "version": "3.8.5"
  }
 },
 "nbformat": 4,
 "nbformat_minor": 5
}
